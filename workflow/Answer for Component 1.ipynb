{
 "cells": [
  {
   "cell_type": "markdown",
   "metadata": {},
   "source": [
    "# Component 1: What are the defining symptoms / phenotypes of [condition x]?"
   ]
  },
  {
   "cell_type": "markdown",
   "metadata": {},
   "source": [
    "## Step 1: Find APIs which connects from Disease to Phenotype"
   ]
  },
  {
   "cell_type": "code",
   "execution_count": 1,
   "metadata": {
    "collapsed": false
   },
   "outputs": [
    {
     "data": {
      "text/plain": [
       "{'associations': [{'endpoint': 'https://api.monarchinitiative.org/api/bioentity/disease/{diseaseid}/phenotypes',\n",
       "   'object': {'prefix': 'hp', 'semantic_type': 'phenotype'},\n",
       "   'predicate': 'DiseaseToPhenotypicFeatureAssociation',\n",
       "   'subject': {'prefix': 'omim.disease', 'semantic_type': 'disease'}},\n",
       "  {'endpoint': 'https://api.monarchinitiative.org/api/bioentity/disease/{diseaseid}/phenotypes',\n",
       "   'object': {'prefix': 'hp', 'semantic_type': 'phenotype'},\n",
       "   'predicate': 'DiseaseToPhenotypicFeatureAssociation',\n",
       "   'subject': {'prefix': 'doid', 'semantic_type': 'disease'}},\n",
       "  {'endpoint': 'https://api.monarchinitiative.org/api/bioentity/disease/{diseaseid}/phenotypes',\n",
       "   'object': {'prefix': 'hp', 'semantic_type': 'phenotype'},\n",
       "   'predicate': 'DiseaseToPhenotypicFeatureAssociation',\n",
       "   'subject': {'prefix': 'orphanet', 'semantic_type': 'disease'}},\n",
       "  {'endpoint': 'https://api.monarchinitiative.org/api/bioentity/disease/{diseaseid}/phenotypes',\n",
       "   'object': {'prefix': 'hp', 'semantic_type': 'phenotype'},\n",
       "   'predicate': 'DiseaseToPhenotypicFeatureAssociation',\n",
       "   'subject': {'prefix': 'mondo', 'semantic_type': 'disease'}}]}"
      ]
     },
     "execution_count": 1,
     "metadata": {},
     "output_type": "execute_result"
    }
   ],
   "source": [
    "import requests\n",
    "apis = requests.get('http://biothings.io/explorer/api/v2/knowledgemap?object.semantic_type=phenotype&subject.semantic_type=disease').json()\n",
    "apis"
   ]
  },
  {
   "cell_type": "markdown",
   "metadata": {},
   "source": [
    "## Step 2: Make API calls to retrieve phenotypes of a Given Condition"
   ]
  },
  {
   "cell_type": "code",
   "execution_count": 2,
   "metadata": {
    "collapsed": false
   },
   "outputs": [
    {
     "data": {
      "text/plain": [
       "{'data': [{'context': {'edge:id': 'http://identifiers.org/ro/',\n",
       "    'edge:label': 'http://biothings.io/explorer/vocab/terms/disease-phenotype-relation/',\n",
       "    'edge:provided_by': 'http://biothings.io/explorer/vocab/terms/database/',\n",
       "    'edge:publication': 'http://identifiers.org/pubmed/',\n",
       "    'object:id': 'http://identifiers.org/hp/',\n",
       "    'object:secondary-id': 'http://biothings.io/explorer/vocab/terms/phenotype-name/'},\n",
       "   'endpoint': 'https://api.monarchinitiative.org/api/bioentity/disease/{diseaseid}/phenotypes',\n",
       "   'input': 'MONDO:0013632',\n",
       "   'output': {'edge': {'id': 'RO:0002200',\n",
       "     'label': 'has phenotype',\n",
       "     'provided_by': 'hpoa.ttl'},\n",
       "    'object': {'id': 'HP:0000360', 'secondary-id': 'PHENOTYPENAME:Tinnitus'}},\n",
       "   'predicate': 'DiseaseToPhenotypicFeatureAssociation',\n",
       "   'target': 'HP:0000360'},\n",
       "  {'context': {'edge:id': 'http://identifiers.org/ro/',\n",
       "    'edge:label': 'http://biothings.io/explorer/vocab/terms/disease-phenotype-relation/',\n",
       "    'edge:provided_by': 'http://biothings.io/explorer/vocab/terms/database/',\n",
       "    'edge:publication': 'http://identifiers.org/pubmed/',\n",
       "    'object:id': 'http://identifiers.org/hp/',\n",
       "    'object:secondary-id': 'http://biothings.io/explorer/vocab/terms/phenotype-name/'},\n",
       "   'endpoint': 'https://api.monarchinitiative.org/api/bioentity/disease/{diseaseid}/phenotypes',\n",
       "   'input': 'MONDO:0013632',\n",
       "   'output': {'edge': {'id': 'RO:0002200',\n",
       "     'label': 'has phenotype',\n",
       "     'provided_by': 'hpoa.ttl'},\n",
       "    'object': {'id': 'HP:0000407',\n",
       "     'secondary-id': 'PHENOTYPENAME:Sensorineural hearing impairment'}},\n",
       "   'predicate': 'DiseaseToPhenotypicFeatureAssociation',\n",
       "   'target': 'HP:0000407'}]}"
      ]
     },
     "execution_count": 2,
     "metadata": {},
     "output_type": "execute_result"
    }
   ],
   "source": [
    "results = requests.get('http://biothings.io/explorer/api/v2/directinput2output?input_prefix=mondo&output_prefix=hp&input_value=0013632').json()\n",
    "results"
   ]
  },
  {
   "cell_type": "code",
   "execution_count": 4,
   "metadata": {
    "collapsed": false
   },
   "outputs": [
    {
     "data": {
      "text/plain": [
       "['HP:0000360', 'HP:0000407']"
      ]
     },
     "execution_count": 4,
     "metadata": {},
     "output_type": "execute_result"
    }
   ],
   "source": [
    "# get all phenotypes IDs\n",
    "phenotypes = [_doc['target'] for _doc in results['data']]\n",
    "phenotypes"
   ]
  },
  {
   "cell_type": "code",
   "execution_count": 7,
   "metadata": {
    "collapsed": false
   },
   "outputs": [
    {
     "data": {
      "text/plain": [
       "['Tinnitus', 'Sensorineural hearing impairment']"
      ]
     },
     "execution_count": 7,
     "metadata": {},
     "output_type": "execute_result"
    }
   ],
   "source": [
    "# get all phenotype names\n",
    "phenotype_names = [_doc['output']['object']['secondary-id'].split(\":\")[-1] for _doc in results['data']]\n",
    "phenotype_names"
   ]
  }
 ],
 "metadata": {
  "kernelspec": {
   "display_name": "Python 3",
   "language": "python",
   "name": "python3"
  },
  "language_info": {
   "codemirror_mode": {
    "name": "ipython",
    "version": 3
   },
   "file_extension": ".py",
   "mimetype": "text/x-python",
   "name": "python",
   "nbconvert_exporter": "python",
   "pygments_lexer": "ipython3",
   "version": "3.5.0"
  }
 },
 "nbformat": 4,
 "nbformat_minor": 2
}
