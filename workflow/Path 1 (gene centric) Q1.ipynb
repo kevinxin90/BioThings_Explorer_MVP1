{
 "cells": [
  {
   "cell_type": "markdown",
   "metadata": {},
   "source": [
    "# Q1: What genes are implicated in [condition]?\n"
   ]
  },
  {
   "cell_type": "markdown",
   "metadata": {},
   "source": [
    "# issue\n",
    "1. rerun when modifying openapi specs"
   ]
  },
  {
   "cell_type": "markdown",
   "metadata": {},
   "source": [
    "## Step 1: Find APIs which connects from Disease to Phenotype"
   ]
  },
  {
   "cell_type": "code",
   "execution_count": 2,
   "metadata": {
    "collapsed": false
   },
   "outputs": [
    {
     "name": "stdout",
     "output_type": "stream",
     "text": [
      "{ 'associations': [ { 'endpoint': 'https://api.monarchinitiative.org/api/bioentity/disease/{diseaseid}/genes',\n",
      "                      'object': {'prefix': 'hgnc', 'semantic_type': 'gene'},\n",
      "                      'predicate': 'DiseaseToGeneOrGeneProductAssociation',\n",
      "                      'subject': { 'prefix': 'omim.disease',\n",
      "                                   'semantic_type': 'disease'}},\n",
      "                    { 'endpoint': 'https://api.monarchinitiative.org/api/bioentity/disease/{diseaseid}/genes',\n",
      "                      'object': {'prefix': 'hgnc', 'semantic_type': 'gene'},\n",
      "                      'predicate': 'DiseaseToGeneOrGeneProductAssociation',\n",
      "                      'subject': { 'prefix': 'doid',\n",
      "                                   'semantic_type': 'disease'}},\n",
      "                    { 'endpoint': 'https://api.monarchinitiative.org/api/bioentity/disease/{diseaseid}/genes',\n",
      "                      'object': {'prefix': 'hgnc', 'semantic_type': 'gene'},\n",
      "                      'predicate': 'DiseaseToGeneOrGeneProductAssociation',\n",
      "                      'subject': { 'prefix': 'mondo',\n",
      "                                   'semantic_type': 'disease'}},\n",
      "                    { 'endpoint': 'http://MyChem.info/v1/querybydrugid',\n",
      "                      'object': {'prefix': 'uniprot', 'semantic_type': 'gene'},\n",
      "                      'predicate': 'ChemicalToGeneOrGeneProductObject',\n",
      "                      'subject': { 'prefix': 'snomed',\n",
      "                                   'semantic_type': 'disease'}},\n",
      "                    { 'endpoint': 'https://pharos.nih.gov/idg/api/v1/diseases({diseaseid})',\n",
      "                      'object': { 'prefix': 'pharos.target',\n",
      "                                  'semantic_type': 'gene'},\n",
      "                      'predicate': 'DiseaseToGeneOrGeneProductAssociation',\n",
      "                      'subject': { 'prefix': 'pharos.disease',\n",
      "                                   'semantic_type': 'disease'}}]}\n"
     ]
    }
   ],
   "source": [
    "import requests\n",
    "import pprint\n",
    "pp = pprint.PrettyPrinter(indent=2)\n",
    "apis = requests.get('http://biothings.io/explorer/api/v2/knowledgemap?object.semantic_type=gene&subject.semantic_type=disease').json()\n",
    "pp.pprint(apis)"
   ]
  },
  {
   "cell_type": "code",
   "execution_count": 4,
   "metadata": {
    "collapsed": false
   },
   "outputs": [
    {
     "name": "stdout",
     "output_type": "stream",
     "text": [
      "{ 'data': [ { 'context': { 'edge:id': 'http://identifiers.org/ro/',\n",
      "                           'edge:label': 'http://biothings.io/explorer/vocab/terms/disease-gene-relation/',\n",
      "                           'edge:provided_by': 'http://biothings.io/explorer/vocab/terms/database/',\n",
      "                           'edge:publication': 'http://identifiers.org/pubmed/',\n",
      "                           'object:id': 'http://identifiers.org/hgnc/',\n",
      "                           'object:secondary-id': 'http://identifiers.org/hgnc.symbol/',\n",
      "                           'object:taxonomy': 'http://identifiers.org/taxonomy/'},\n",
      "              'endpoint': 'https://api.monarchinitiative.org/api/bioentity/disease/{diseaseid}/genes',\n",
      "              'input': 'MONDO:0013240',\n",
      "              'output': { 'edge': { 'id': 'RO:0002200',\n",
      "                                    'label': 'has phenotype',\n",
      "                                    'provided_by': ['ctd.ttl', 'omim.ttl']},\n",
      "                          'object': { 'id': 'HGNC:6081',\n",
      "                                      'secondary-id': 'HGNC.SYMBOL:INS',\n",
      "                                      'taxonomy': [ 'Homo sapiens',\n",
      "                                                    'NCBITaxon:9606']}},\n",
      "              'predicate': 'DiseaseToGeneOrGeneProductAssociation',\n",
      "              'target': 'HGNC:6081'},\n",
      "            { 'context': { 'edge:id': 'http://identifiers.org/ro/',\n",
      "                           'edge:label': 'http://biothings.io/explorer/vocab/terms/disease-gene-relation/',\n",
      "                           'edge:provided_by': 'http://biothings.io/explorer/vocab/terms/database/',\n",
      "                           'edge:publication': 'http://identifiers.org/pubmed/',\n",
      "                           'object:id': 'http://identifiers.org/hgnc/',\n",
      "                           'object:secondary-id': 'http://identifiers.org/hgnc.symbol/',\n",
      "                           'object:taxonomy': 'http://identifiers.org/taxonomy/'},\n",
      "              'endpoint': 'https://api.monarchinitiative.org/api/bioentity/disease/{diseaseid}/genes',\n",
      "              'input': 'MONDO:0013240',\n",
      "              'output': { 'edge': { 'id': 'GENO:0000841',\n",
      "                                    'label': 'likely_pathogenic_for_condition',\n",
      "                                    'provided_by': 'clinvar.ttl'},\n",
      "                          'object': { 'id': 'HGNC:33527',\n",
      "                                      'secondary-id': 'HGNC.SYMBOL:INS-IGF2',\n",
      "                                      'taxonomy': [ 'Homo sapiens',\n",
      "                                                    'NCBITaxon:9606']}},\n",
      "              'predicate': 'DiseaseToGeneOrGeneProductAssociation',\n",
      "              'target': 'HGNC:33527'}]}\n"
     ]
    }
   ],
   "source": [
    "results = requests.get('http://biothings.io/explorer/api/v2/directinput2output?input_prefix=mondo&output_prefix=hgnc&input_value=0013240').json()\n",
    "pp.pprint(results)"
   ]
  },
  {
   "cell_type": "code",
   "execution_count": null,
   "metadata": {
    "collapsed": true
   },
   "outputs": [],
   "source": []
  }
 ],
 "metadata": {
  "kernelspec": {
   "display_name": "Python 3",
   "language": "python",
   "name": "python3"
  },
  "language_info": {
   "codemirror_mode": {
    "name": "ipython",
    "version": 3
   },
   "file_extension": ".py",
   "mimetype": "text/x-python",
   "name": "python",
   "nbconvert_exporter": "python",
   "pygments_lexer": "ipython3",
   "version": "3.5.0"
  }
 },
 "nbformat": 4,
 "nbformat_minor": 2
}
